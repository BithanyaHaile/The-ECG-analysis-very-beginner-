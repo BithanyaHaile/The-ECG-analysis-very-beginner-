{
 "cells": [
  {
   "cell_type": "code",
   "execution_count": null,
   "id": "927ee4d4",
   "metadata": {},
   "outputs": [],
   "source": [
    "import pandas as pd\n",
    "import matplotlib.pyplot as plt"
   ]
  },
  {
   "cell_type": "code",
   "execution_count": null,
   "id": "04b01207",
   "metadata": {},
   "outputs": [],
   "source": [
    "ecg100df= pd.read_csv(\"100_ekg.csv\", index_col=0)"
   ]
  },
  {
   "cell_type": "code",
   "execution_count": null,
   "id": "6dc667d8",
   "metadata": {},
   "outputs": [],
   "source": [
    "ecg100df"
   ]
  },
  {
   "cell_type": "code",
   "execution_count": null,
   "id": "0b39945b",
   "metadata": {},
   "outputs": [],
   "source": [
    "ecg100df[\"time_ms\"] = ecg100df.index/360\n",
    "ecg100df"
   ]
  },
  {
   "cell_type": "code",
   "execution_count": null,
   "id": "4c3f6941",
   "metadata": {},
   "outputs": [],
   "source": [
    "ecg100df['MLII'].plot()\n",
    "plt.title (\"30 mins EKG of patient 100\")"
   ]
  },
  {
   "cell_type": "code",
   "execution_count": null,
   "id": "a74eb2e0",
   "metadata": {},
   "outputs": [],
   "source": [
    "ecg100df[0:1000][\"MLII\"].plot()\n",
    "plt.title(\"First 4 heartbeats of patient 100's EKG\")"
   ]
  },
  {
   "cell_type": "code",
   "execution_count": null,
   "id": "c4fcbabf",
   "metadata": {},
   "outputs": [],
   "source": [
    "from scipy import signal\n",
    "peaks, metadata= signal.find_peaks(ecg100df[0:1000][\"MLII\"], height=0.6)\n",
    "ecg100df [0:1000][\"MLII\"].plot()\n",
    "plt.plot(peaks, ecg100df[0:1000][\"MLII\"][peaks], \"x\")\n",
    "plt.title(\" First 4 R waves of patient 100's EKG\")"
   ]
  }
 ],
 "metadata": {
  "kernelspec": {
   "display_name": "venv",
   "language": "python",
   "name": "python3"
  },
  "language_info": {
   "codemirror_mode": {
    "name": "ipython",
    "version": 3
   },
   "file_extension": ".py",
   "mimetype": "text/x-python",
   "name": "python",
   "nbconvert_exporter": "python",
   "pygments_lexer": "ipython3",
   "version": "3.12.5"
  }
 },
 "nbformat": 4,
 "nbformat_minor": 5
}
